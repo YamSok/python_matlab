{
 "cells": [
  {
   "cell_type": "markdown",
   "metadata": {},
   "source": [
    "<h2>Etape 1 :  Déclaration de la fonction de transfert </h2>\n",
    "<font size =4 font=\"Verdana\">\n",
    "Exemple : H(s) = s²+3s+4 / s²+2s+5 \n",
    "<br><br>\n",
    "<strong>Remarque :</strong><br>\n",
    "python utilise alors en interne:TransferFunctionContinuous(array([ 1.,  3.,  3.]),array([ 1.,  2.,  1.]),dt: None)\n"
   ]
  },
  {
   "cell_type": "code",
   "execution_count": 1,
   "metadata": {
    "scrolled": true
   },
   "outputs": [
    {
     "data": {
      "text/plain": [
       "TransferFunctionContinuous(\n",
       "array([ 1.,  3.,  4.]),\n",
       "array([ 1.,  2.,  5.]),\n",
       "dt: None\n",
       ")"
      ]
     },
     "execution_count": 1,
     "metadata": {},
     "output_type": "execute_result"
    }
   ],
   "source": [
    "from scipy import signal\n",
    "num = [1, 3, 4]  #correspond aux coefficients devant chaque degré du numérateur\n",
    "den = [1, 2, 5]  #idem pour le dénominateur\n",
    "\n",
    "signal.TransferFunction(num, den)\n",
    "\n"
   ]
  },
  {
   "cell_type": "markdown",
   "metadata": {},
   "source": [
    "<font size =4 font=\"Verdana\">\n",
    "<h2>Exemple 2 :</h2><br> Déclaration de la même fonction de transfert avec un temps d'échantillonnage de 0,1 seconde.\n",
    "<br><br>\n",
    "<strong>Remarque :</strong><br>\n",
    "python utilise alors en interne:TransferFunctionDiscrete ( array ([1., 3., 3.]), array ([1., 2., 1.]), dt: 0.1 )\n",
    "\n",
    " "
   ]
  },
  {
   "cell_type": "code",
   "execution_count": 2,
   "metadata": {},
   "outputs": [
    {
     "data": {
      "text/plain": [
       "TransferFunctionDiscrete(\n",
       "array([ 1.,  3.,  3.]),\n",
       "array([ 1.,  2.,  1.]),\n",
       "dt: 0.1\n",
       ")"
      ]
     },
     "execution_count": 2,
     "metadata": {},
     "output_type": "execute_result"
    }
   ],
   "source": [
    "from scipy import signal\n",
    "num = [1, 3, 3]\n",
    "den = [1, 2, 1]\n",
    "\n",
    "signal . TransferFunction ( num ,  den ,  dt = 0.1 ) "
   ]
  },
  {
   "cell_type": "markdown",
   "metadata": {},
   "source": [
    "<font size =5 font=\"Verdana\">\n",
    "<h1>Etape 2 : Construction du Bode, après déclaration de la fonction de transfert \n",
    "</h1></font><font size =5 font=\"Verdana\"><br> Un exemple de code permettant de tracer un Bode "
   ]
  },
  {
   "cell_type": "code",
   "execution_count": 3,
   "metadata": {
    "slideshow": {
     "slide_type": "slide"
    }
   },
   "outputs": [
    {
     "data": {
      "image/png": "[encoded data removed]",
      "text/plain": [
       "<matplotlib.figure.Figure at 0x254a957b9e8>"
      ]
     },
     "metadata": {},
     "output_type": "display_data"
    },
    {
     "data": {
      "image/png": "[encoded data removed]",
      "text/plain": [
       "<matplotlib.figure.Figure at 0x254aa0460b8>"
      ]
     },
     "metadata": {},
     "output_type": "display_data"
    }
   ],
   "source": [
    "\n",
    "\n",
    "from scipy import signal\n",
    "import matplotlib.pyplot as plt\n",
    " \n",
    "sys = signal.TransferFunction([1], [1, 1])\n",
    "w, mag, phase = sys.bode() #on demande à Python les valeurs du système\n",
    "plt.figure()\n",
    "plt.semilogx(w, mag)    # Bode gain en dB\n",
    "plt.figure()\n",
    "plt.semilogx(w, phase)  # Bode phase\n",
    "plt.show()\n"
   ]
  },
  {
   "cell_type": "markdown",
   "metadata": {},
   "source": [
    "<font size =4 font=\"Verdana\">\n",
    "<h2>Exemple : </h2>"
   ]
  },
  {
   "cell_type": "markdown",
   "metadata": {},
   "source": [
    "<font size =4 font=\"Verdana\">&Eacute;crivez le code python permettant d'obtenir la phase et le gain pour une pulsation donnée de la fonction <br> de transfert suivante: <br><br> G(s) = 2 / s+3 </font>\n",
    "<details>\n",
    "    <summary>&#9658; Solution</summary> \n",
    "<p>from scipy import signal\n",
    "<br>\n",
    "sys = signal.TransferFunction([2], [1, 3])<br>\n",
    "w=float(input(\"choisissez une pulsation :\"))<br>\n",
    "\n",
    "w1, mag, phase = signal.bode(sys,w)<br>\n",
    "print(\"Pour une pulsation de\",w,\"et cette fonction de transfert, on a \\n phase:\",phase,\"\\n gain :\",mag)<br>\n",
    "</p>\n",
    "</details>\n",
    "</div>"
   ]
  },
  {
   "cell_type": "code",
   "execution_count": null,
   "metadata": {
    "collapsed": true
   },
   "outputs": [],
   "source": []
  }
 ],
 "metadata": {
  "kernelspec": {
   "display_name": "Python 3",
   "language": "python",
   "name": "python3"
  },
  "language_info": {
   "codemirror_mode": {
    "name": "ipython",
    "version": 3
   },
   "file_extension": ".py",
   "mimetype": "text/x-python",
   "name": "python",
   "nbconvert_exporter": "python",
   "pygments_lexer": "ipython3",
   "version": "3.6.3"
  }
 },
 "nbformat": 4,
 "nbformat_minor": 2
}
